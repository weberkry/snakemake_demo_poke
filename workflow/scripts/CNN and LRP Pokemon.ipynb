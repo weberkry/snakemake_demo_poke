{
 "cells": [
  {
   "cell_type": "code",
   "execution_count": 31,
   "metadata": {},
   "outputs": [
    {
     "name": "stdout",
     "output_type": "stream",
     "text": [
      "Requirement already satisfied: scikit-learn in /home/christiane/anaconda3/lib/python3.9/site-packages (1.0.2)\n",
      "Requirement already satisfied: scipy>=1.1.0 in /home/christiane/anaconda3/lib/python3.9/site-packages (from scikit-learn) (1.7.3)\n",
      "Requirement already satisfied: joblib>=0.11 in /home/christiane/anaconda3/lib/python3.9/site-packages (from scikit-learn) (1.1.0)\n",
      "Requirement already satisfied: numpy>=1.14.6 in /home/christiane/anaconda3/lib/python3.9/site-packages (from scikit-learn) (1.21.5)\n",
      "Requirement already satisfied: threadpoolctl>=2.0.0 in /home/christiane/anaconda3/lib/python3.9/site-packages (from scikit-learn) (2.2.0)\n",
      "Note: you may need to restart the kernel to use updated packages.\n"
     ]
    }
   ],
   "source": [
    "pip install scikit-learn"
   ]
  },
  {
   "cell_type": "code",
   "execution_count": 1,
   "metadata": {},
   "outputs": [],
   "source": [
    "import os\n",
    "import pathlib\n",
    "import pandas as pd\n",
    "import numpy as np\n",
    "from PIL import Image"
   ]
  },
  {
   "cell_type": "code",
   "execution_count": 3,
   "metadata": {},
   "outputs": [],
   "source": [
    "y= pd.read_csv(\"/home/christiane/Documents/Programming_Projects/snakemake_workflow/workflow/Output/Preprocessing/class.csv\").iloc[:, 1].to_list()\n",
    "\n",
    "\n",
    "\n",
    "\n",
    "X = np.load(\"/home/christiane/Documents/Programming_Projects/snakemake_workflow/workflow/Output/Preprocessing/train_matrix.npy\")"
   ]
  },
  {
   "cell_type": "code",
   "execution_count": 26,
   "metadata": {},
   "outputs": [
    {
     "data": {
      "text/plain": [
       "(9743, 50, 50, 3)"
      ]
     },
     "execution_count": 26,
     "metadata": {},
     "output_type": "execute_result"
    }
   ],
   "source": [
    "np.shape(X)"
   ]
  },
  {
   "cell_type": "code",
   "execution_count": 2,
   "metadata": {},
   "outputs": [
    {
     "name": "stderr",
     "output_type": "stream",
     "text": [
      "2022-06-24 21:04:40.002112: W tensorflow/stream_executor/platform/default/dso_loader.cc:64] Could not load dynamic library 'libcudart.so.11.0'; dlerror: libcudart.so.11.0: cannot open shared object file: No such file or directory\n",
      "2022-06-24 21:04:40.002173: I tensorflow/stream_executor/cuda/cudart_stub.cc:29] Ignore above cudart dlerror if you do not have a GPU set up on your machine.\n"
     ]
    }
   ],
   "source": [
    "import os\n",
    "import pathlib\n",
    "import pandas as pd\n",
    "import numpy as np\n",
    "from PIL import Image\n",
    "import matplotlib.pyplot as plt\n",
    "from sklearn.preprocessing import OneHotEncoder\n",
    "from sklearn.utils import shuffle\n",
    "import keras\n",
    "from keras.utils import to_categorical\n",
    "from keras.callbacks import LearningRateScheduler\n",
    "from keras.callbacks import History\n",
    "from keras.callbacks import EarlyStopping\n",
    "from keras.callbacks import TensorBoard\n",
    "from keras.callbacks import ModelCheckpoint\n",
    "from keras.models import Sequential\n",
    "from keras.layers import Dense, Dropout, BatchNormalization, Convolution2D, MaxPooling2D, Flatten\n",
    "from tensorflow.keras.optimizers import Adam\n",
    "from keras.optimizers import SGD\n",
    "from keras.optimizers import RMSprop\n",
    "from keras import losses\n",
    "\n",
    "\n",
    "%matplotlib inline"
   ]
  },
  {
   "cell_type": "code",
   "execution_count": 2,
   "metadata": {},
   "outputs": [
    {
     "data": {
      "text/plain": [
       "'2.2.4'"
      ]
     },
     "execution_count": 2,
     "metadata": {},
     "output_type": "execute_result"
    }
   ],
   "source": [
    "keras.__version__"
   ]
  },
  {
   "cell_type": "code",
   "execution_count": 36,
   "metadata": {},
   "outputs": [
    {
     "ename": "FileNotFoundError",
     "evalue": "[Errno 2] No such file or directory: '//home/christiane/Documents/Programming_Projects/snakemake_workflow/static/Train/dataset'",
     "output_type": "error",
     "traceback": [
      "\u001b[0;31m---------------------------------------------------------------------------\u001b[0m",
      "\u001b[0;31mFileNotFoundError\u001b[0m                         Traceback (most recent call last)",
      "Input \u001b[0;32mIn [36]\u001b[0m, in \u001b[0;36m<cell line: 3>\u001b[0;34m()\u001b[0m\n\u001b[1;32m      1\u001b[0m \u001b[38;5;66;03m#read files\u001b[39;00m\n\u001b[1;32m      2\u001b[0m path \u001b[38;5;241m=\u001b[39m \u001b[38;5;124mr\u001b[39m\u001b[38;5;124m\"\u001b[39m\u001b[38;5;124m//home/christiane/Documents/Programming_Projects/snakemake_workflow/static/Train/dataset\u001b[39m\u001b[38;5;124m\"\u001b[39m\n\u001b[0;32m----> 3\u001b[0m list_subfolders_with_paths \u001b[38;5;241m=\u001b[39m [f\u001b[38;5;241m.\u001b[39mpath \u001b[38;5;28;01mfor\u001b[39;00m f \u001b[38;5;129;01min\u001b[39;00m \u001b[43mos\u001b[49m\u001b[38;5;241;43m.\u001b[39;49m\u001b[43mscandir\u001b[49m\u001b[43m(\u001b[49m\u001b[43mpath\u001b[49m\u001b[43m)\u001b[49m \u001b[38;5;28;01mif\u001b[39;00m f\u001b[38;5;241m.\u001b[39mis_dir()]\n\u001b[1;32m      5\u001b[0m X_list \u001b[38;5;241m=\u001b[39m []\n\u001b[1;32m      6\u001b[0m y \u001b[38;5;241m=\u001b[39m []\n",
      "\u001b[0;31mFileNotFoundError\u001b[0m: [Errno 2] No such file or directory: '//home/christiane/Documents/Programming_Projects/snakemake_workflow/static/Train/dataset'"
     ]
    }
   ],
   "source": [
    "#read files\n",
    "path = r\"//home/christiane/Documents/Programming_Projects/snakemake_workflow/static/Train/dataset\"\n",
    "list_subfolders_with_paths = [f.path for f in os.scandir(path) if f.is_dir()]\n",
    "\n",
    "X_list = []\n",
    "y = []"
   ]
  },
  {
   "cell_type": "code",
   "execution_count": 7,
   "metadata": {},
   "outputs": [],
   "source": [
    "for pokemon in list_subfolders_with_paths:\n",
    "    from os import listdir\n",
    "    from os.path import isfile, join\n",
    "    onlyfiles = [f for f in listdir(pokemon) if isfile(join(pokemon, f)) and '.jpg' in f or '.jpeg'in f]    "
   ]
  },
  {
   "cell_type": "code",
   "execution_count": 15,
   "metadata": {},
   "outputs": [
    {
     "data": {
      "text/plain": [
       "'Pikachu'"
      ]
     },
     "execution_count": 15,
     "metadata": {},
     "output_type": "execute_result"
    }
   ],
   "source": [
    "pokemon.split(os.sep)[-1]"
   ]
  },
  {
   "cell_type": "code",
   "execution_count": 38,
   "metadata": {},
   "outputs": [
    {
     "data": {
      "text/plain": [
       "<function numpy.shape(a)>"
      ]
     },
     "execution_count": 38,
     "metadata": {},
     "output_type": "execute_result"
    }
   ],
   "source": [
    "#read files\n",
    "path = r\"/home/christiane/Documents/Programming_Projects/snakemake_workflow/workflow/static/Train/dataset\"\n",
    "\n",
    "list_subfolders_with_paths = [f.path for f in os.scandir(path) if f.is_dir()]\n",
    "\n",
    "X_list = []\n",
    "y = []\n",
    "\n",
    "for pokemon in list_subfolders_with_paths:\n",
    "    from os import listdir\n",
    "    from os.path import isfile, join\n",
    "    onlyfiles = [f for f in listdir(pokemon) if isfile(join(pokemon, f)) and '.jpg' in f or '.jpeg'in f]    \n",
    "    for img in onlyfiles:\n",
    "        n = Image.open(\"%s/%s\"%(pokemon,img))\n",
    "\n",
    "        #drop if only 2 dim!\n",
    "        if len(np.shape(n))!=3 or np.shape(n)[2] != 3:\n",
    "            pass\n",
    "        else:\n",
    "            #reshape\n",
    "            n = n.resize((50, 50))\n",
    "            n = np.asarray(n).astype(np.float32)/255.\n",
    "            X_list.append(n)\n",
    "            y.append(pokemon.split(os.sep)[-1])\n",
    "        \n",
    "      \n",
    "    \n",
    "X = np.concatenate( X_list, axis=0 )\n",
    "X = X.reshape(-1,50,50,3)\n",
    "np.shape(X)\n",
    "\n",
    "np.shape"
   ]
  },
  {
   "cell_type": "code",
   "execution_count": 21,
   "metadata": {},
   "outputs": [],
   "source": [
    "np.save(\"train_matrix\", X)"
   ]
  },
  {
   "cell_type": "code",
   "execution_count": 4,
   "metadata": {},
   "outputs": [],
   "source": [
    "#train_test_split\n",
    "from sklearn.preprocessing import OneHotEncoder\n",
    "from keras.utils import to_categorical\n",
    "y_cat = pd.get_dummies(y)\n",
    "\n",
    "from sklearn.model_selection import train_test_split\n",
    "X_train, X_val, y_train, y_val = train_test_split(X, y_cat, test_size=0.1, random_state=42)\n",
    "\n"
   ]
  },
  {
   "cell_type": "code",
   "execution_count": 10,
   "metadata": {},
   "outputs": [
    {
     "ename": "SyntaxError",
     "evalue": "invalid syntax (3484450341.py, line 2)",
     "output_type": "error",
     "traceback": [
      "\u001b[0;36m  Input \u001b[0;32mIn [10]\u001b[0;36m\u001b[0m\n\u001b[0;31m    usecols=[1::])\u001b[0m\n\u001b[0m              ^\u001b[0m\n\u001b[0;31mSyntaxError\u001b[0m\u001b[0;31m:\u001b[0m invalid syntax\n"
     ]
    }
   ],
   "source": [
    "y_cat = pd.read_csv(\"/home/christiane/Documents/Programming_Projects/snakemake_workflow/workflow/Output/Train_Test_Set/y_train.csv\")\n",
    "\n"
   ]
  },
  {
   "cell_type": "code",
   "execution_count": 18,
   "metadata": {},
   "outputs": [],
   "source": [
    "y_train = y_cat.drop(columns=['Unnamed: 0'])"
   ]
  },
  {
   "cell_type": "code",
   "execution_count": 16,
   "metadata": {},
   "outputs": [
    {
     "data": {
      "text/plain": [
       "Index(['Unnamed: 0', 'Abra', 'Aerodactyl'], dtype='object')"
      ]
     },
     "execution_count": 16,
     "metadata": {},
     "output_type": "execute_result"
    }
   ],
   "source": [
    "y_cat.columns[0:3]"
   ]
  },
  {
   "cell_type": "code",
   "execution_count": 41,
   "metadata": {},
   "outputs": [
    {
     "name": "stdout",
     "output_type": "stream",
     "text": [
      "Train data  (8768, 50, 50, 3)\n",
      "Test data  (975, 50, 50, 3)\n"
     ]
    }
   ],
   "source": [
    "print('Train data ',np.shape(X_train))\n",
    "print('Test data ',np.shape(X_val))"
   ]
  },
  {
   "cell_type": "code",
   "execution_count": 19,
   "metadata": {},
   "outputs": [
    {
     "name": "stdout",
     "output_type": "stream",
     "text": [
      "149\n"
     ]
    },
    {
     "data": {
      "image/png": "[encoded data removed]",
      "text/plain": [
       "<Figure size 1800x1080 with 1 Axes>"
      ]
     },
     "metadata": {
      "needs_background": "light"
     },
     "output_type": "display_data"
    }
   ],
   "source": [
    "print(len(y_train.columns))\n",
    "plt.figure(figsize=(25,15))\n",
    "plt.bar(y_train.columns, y_train.sum())\n",
    "plt.xticks(rotation=90)\n",
    "plt.show()"
   ]
  },
  {
   "cell_type": "code",
   "execution_count": 58,
   "metadata": {},
   "outputs": [],
   "source": [
    "from keras.utils import to_categorical\n",
    "from keras.callbacks import LearningRateScheduler\n",
    "from keras.callbacks import History\n",
    "from keras.callbacks import EarlyStopping\n",
    "from keras.callbacks import TensorBoard\n",
    "from keras.callbacks import ModelCheckpoint\n",
    "from keras.models import Sequential\n",
    "from keras.layers import Dense, Dropout, BatchNormalization, Convolution2D, MaxPooling2D, Flatten\n",
    "from tensorflow.keras.optimizers import Adam\n",
    "from keras.optimizers import SGD\n",
    "from keras.optimizers import RMSprop\n",
    "from keras import losses\n",
    "\n",
    "\n",
    "height = 50\n",
    "width = 50\n",
    "channel = 3\n",
    "\n",
    "#reshaping samples according to sample size\n",
    "X_train = X_train.reshape(-1,width,height, channel)\n",
    "X_val = X_val.reshape(-1,width,height, channel)\n",
    "\n",
    "# Best CNN parameter\n",
    "\n",
    "# The parameters and construction were chosen after \n",
    "# testing and optimizing different initial settings \n",
    "\n",
    "\n",
    "#define hyperparameters\n",
    "epochs = 50\n",
    "batch_size = 256\n",
    "\n",
    "\n",
    "#define optimizer\n",
    "#rmsprop = RMSprop(learning_rate=0.001, rho=0.9)\n",
    "\n",
    "\n",
    "# construct model\n",
    "model = Sequential()\n",
    "\n",
    "# Layers\n",
    "model.add(Convolution2D(32,\n",
    "                 kernel_size=(3,3),\n",
    "                 activation='relu',\n",
    "                 input_shape=(width,\n",
    "                              height,\n",
    "                              channel)))\n",
    "model.add(MaxPooling2D(pool_size=(2, 2)))\n",
    "model.add(Convolution2D(64,kernel_size=(3,3),activation='relu'))\n",
    "model.add(MaxPooling2D(pool_size=(2, 2)))\n",
    "model.add(Convolution2D(128,kernel_size=(3,3),activation='relu'))\n",
    "model.add(Dropout(0.25))\n",
    "model.add(Flatten())\n",
    "\n",
    "model.add(Dense(298, activation=\"relu\"))\n",
    "model.add(Dense(149,activation=\"softmax\"))\n",
    "\n",
    "# compiling\n",
    "model.compile(optimizer='adam', \n",
    "              loss=\"categorical_crossentropy\", \n",
    "              metrics=[\"accuracy\"])"
   ]
  },
  {
   "cell_type": "code",
   "execution_count": 60,
   "metadata": {},
   "outputs": [
    {
     "name": "stdout",
     "output_type": "stream",
     "text": [
      "Model: \"sequential_1\"\n",
      "_________________________________________________________________\n",
      " Layer (type)                Output Shape              Param #   \n",
      "=================================================================\n",
      " conv2d_3 (Conv2D)           (None, 48, 48, 32)        896       \n",
      "                                                                 \n",
      " max_pooling2d_2 (MaxPooling  (None, 24, 24, 32)       0         \n",
      " 2D)                                                             \n",
      "                                                                 \n",
      " conv2d_4 (Conv2D)           (None, 22, 22, 64)        18496     \n",
      "                                                                 \n",
      " max_pooling2d_3 (MaxPooling  (None, 11, 11, 64)       0         \n",
      " 2D)                                                             \n",
      "                                                                 \n",
      " conv2d_5 (Conv2D)           (None, 9, 9, 128)         73856     \n",
      "                                                                 \n",
      " dropout_1 (Dropout)         (None, 9, 9, 128)         0         \n",
      "                                                                 \n",
      " flatten_1 (Flatten)         (None, 10368)             0         \n",
      "                                                                 \n",
      " dense_2 (Dense)             (None, 298)               3089962   \n",
      "                                                                 \n",
      " dense_3 (Dense)             (None, 149)               44551     \n",
      "                                                                 \n",
      "=================================================================\n",
      "Total params: 3,227,761\n",
      "Trainable params: 3,227,761\n",
      "Non-trainable params: 0\n",
      "_________________________________________________________________\n"
     ]
    }
   ],
   "source": [
    "model.summary()"
   ]
  },
  {
   "cell_type": "code",
   "execution_count": 23,
   "metadata": {},
   "outputs": [
    {
     "name": "stdout",
     "output_type": "stream",
     "text": [
      "Epoch 1/50\n",
      "35/35 [==============================] - 11s 302ms/step - loss: 4.8337 - accuracy: 0.0420\n",
      "Epoch 2/50\n",
      "35/35 [==============================] - 11s 308ms/step - loss: 4.3716 - accuracy: 0.0874\n",
      "Epoch 3/50\n",
      "35/35 [==============================] - 11s 329ms/step - loss: 3.8713 - accuracy: 0.1447\n",
      "Epoch 4/50\n",
      "35/35 [==============================] - 13s 358ms/step - loss: 3.4742 - accuracy: 0.2119\n",
      "Epoch 5/50\n",
      "35/35 [==============================] - 13s 370ms/step - loss: 3.1368 - accuracy: 0.2698\n",
      "Epoch 6/50\n",
      "35/35 [==============================] - 13s 365ms/step - loss: 2.7831 - accuracy: 0.3498\n",
      "Epoch 7/50\n",
      "35/35 [==============================] - 13s 373ms/step - loss: 2.4732 - accuracy: 0.4091\n",
      "Epoch 8/50\n",
      "35/35 [==============================] - 13s 385ms/step - loss: 2.1865 - accuracy: 0.4668\n",
      "Epoch 9/50\n",
      "35/35 [==============================] - 13s 383ms/step - loss: 1.9610 - accuracy: 0.5146\n",
      "Epoch 10/50\n",
      "35/35 [==============================] - 14s 399ms/step - loss: 1.6148 - accuracy: 0.5917\n",
      "Epoch 11/50\n",
      "35/35 [==============================] - 14s 382ms/step - loss: 1.3966 - accuracy: 0.6354\n",
      "Epoch 12/50\n",
      "35/35 [==============================] - 13s 379ms/step - loss: 1.1430 - accuracy: 0.7043\n",
      "Epoch 13/50\n",
      "35/35 [==============================] - 13s 381ms/step - loss: 0.9550 - accuracy: 0.7444\n",
      "Epoch 14/50\n",
      "35/35 [==============================] - 13s 365ms/step - loss: 0.8034 - accuracy: 0.7899\n",
      "Epoch 15/50\n",
      "35/35 [==============================] - 13s 372ms/step - loss: 0.6579 - accuracy: 0.8286\n",
      "Epoch 16/50\n",
      "35/35 [==============================] - 13s 366ms/step - loss: 0.5627 - accuracy: 0.8555\n",
      "Epoch 17/50\n",
      "35/35 [==============================] - 13s 362ms/step - loss: 0.4934 - accuracy: 0.8707\n",
      "Epoch 18/50\n",
      "35/35 [==============================] - 13s 374ms/step - loss: 0.4225 - accuracy: 0.8910\n",
      "Epoch 19/50\n",
      "35/35 [==============================] - 13s 367ms/step - loss: 0.3492 - accuracy: 0.9143\n",
      "Epoch 20/50\n",
      "35/35 [==============================] - 13s 366ms/step - loss: 0.3084 - accuracy: 0.9272\n",
      "Epoch 21/50\n",
      "35/35 [==============================] - 13s 385ms/step - loss: 0.3064 - accuracy: 0.9286\n",
      "Epoch 22/50\n",
      "35/35 [==============================] - 15s 434ms/step - loss: 0.2916 - accuracy: 0.9318\n",
      "Epoch 23/50\n",
      "35/35 [==============================] - 14s 414ms/step - loss: 0.2690 - accuracy: 0.9374\n",
      "Epoch 24/50\n",
      "35/35 [==============================] - 14s 401ms/step - loss: 0.2396 - accuracy: 0.9433\n",
      "Epoch 25/50\n",
      "35/35 [==============================] - 13s 374ms/step - loss: 0.2261 - accuracy: 0.9469\n",
      "Epoch 26/50\n",
      "35/35 [==============================] - 13s 365ms/step - loss: 0.2242 - accuracy: 0.9482\n",
      "Epoch 27/50\n",
      "35/35 [==============================] - 14s 409ms/step - loss: 0.2091 - accuracy: 0.9532\n",
      "Epoch 28/50\n",
      "35/35 [==============================] - 13s 376ms/step - loss: 0.2023 - accuracy: 0.9554\n",
      "Epoch 29/50\n",
      "35/35 [==============================] - 14s 386ms/step - loss: 0.1782 - accuracy: 0.9621\n",
      "Epoch 30/50\n",
      "35/35 [==============================] - 13s 373ms/step - loss: 0.1787 - accuracy: 0.9620\n",
      "Epoch 31/50\n",
      "35/35 [==============================] - 14s 406ms/step - loss: 0.1557 - accuracy: 0.9666\n",
      "Epoch 32/50\n",
      "35/35 [==============================] - 13s 370ms/step - loss: 0.1654 - accuracy: 0.9641\n",
      "Epoch 33/50\n",
      "35/35 [==============================] - 14s 390ms/step - loss: 0.1448 - accuracy: 0.9661\n",
      "Epoch 34/50\n",
      "35/35 [==============================] - 13s 381ms/step - loss: 0.1542 - accuracy: 0.9680\n",
      "Epoch 35/50\n",
      "35/35 [==============================] - 13s 380ms/step - loss: 0.1412 - accuracy: 0.9677\n",
      "Epoch 36/50\n",
      "35/35 [==============================] - 13s 363ms/step - loss: 0.1392 - accuracy: 0.9698\n",
      "Epoch 37/50\n",
      "35/35 [==============================] - 13s 373ms/step - loss: 0.1450 - accuracy: 0.9658\n",
      "Epoch 38/50\n",
      "35/35 [==============================] - 13s 369ms/step - loss: 0.1420 - accuracy: 0.9676\n",
      "Epoch 39/50\n",
      "35/35 [==============================] - 14s 388ms/step - loss: 0.1324 - accuracy: 0.9703\n",
      "Epoch 40/50\n",
      "35/35 [==============================] - 14s 388ms/step - loss: 0.1287 - accuracy: 0.9708\n",
      "Epoch 41/50\n",
      "35/35 [==============================] - 13s 367ms/step - loss: 0.1274 - accuracy: 0.9711\n",
      "Epoch 42/50\n",
      "35/35 [==============================] - 13s 369ms/step - loss: 0.1320 - accuracy: 0.9701\n",
      "Epoch 43/50\n",
      "35/35 [==============================] - 14s 390ms/step - loss: 0.1164 - accuracy: 0.9730\n",
      "Epoch 44/50\n",
      "35/35 [==============================] - 13s 377ms/step - loss: 0.1297 - accuracy: 0.9682\n",
      "Epoch 45/50\n",
      "35/35 [==============================] - 12s 354ms/step - loss: 0.1189 - accuracy: 0.9722\n",
      "Epoch 46/50\n",
      "35/35 [==============================] - 12s 357ms/step - loss: 0.1161 - accuracy: 0.9731\n",
      "Epoch 47/50\n",
      "35/35 [==============================] - 13s 366ms/step - loss: 0.1159 - accuracy: 0.9716\n",
      "Epoch 48/50\n",
      "35/35 [==============================] - 13s 366ms/step - loss: 0.1100 - accuracy: 0.9721\n",
      "Epoch 49/50\n",
      "35/35 [==============================] - 13s 384ms/step - loss: 0.1099 - accuracy: 0.9724\n",
      "Epoch 50/50\n",
      "35/35 [==============================] - 13s 378ms/step - loss: 0.1111 - accuracy: 0.9725\n"
     ]
    }
   ],
   "source": [
    "pkmn_model = model.fit(X_train, y_train,\n",
    "                  epochs=epochs,\n",
    "                  batch_size=batch_size,\n",
    "                  verbose = 1)"
   ]
  },
  {
   "cell_type": "code",
   "execution_count": 36,
   "metadata": {},
   "outputs": [
    {
     "name": "stdout",
     "output_type": "stream",
     "text": [
      "Epoch 1/50\n",
      "35/35 [==============================] - 11s 320ms/step - loss: 0.1014 - accuracy: 0.9729 - val_loss: 5.5095 - val_accuracy: 0.3374\n",
      "Epoch 2/50\n",
      "35/35 [==============================] - 11s 302ms/step - loss: 0.0986 - accuracy: 0.9739 - val_loss: 5.4405 - val_accuracy: 0.3426\n",
      "Epoch 3/50\n",
      "35/35 [==============================] - 12s 330ms/step - loss: 0.0988 - accuracy: 0.9742 - val_loss: 5.3395 - val_accuracy: 0.3487\n",
      "Epoch 4/50\n",
      "35/35 [==============================] - 13s 380ms/step - loss: 0.0930 - accuracy: 0.9746 - val_loss: 5.2857 - val_accuracy: 0.3426\n",
      "Epoch 5/50\n",
      "35/35 [==============================] - 13s 382ms/step - loss: 0.0981 - accuracy: 0.9751 - val_loss: 5.5099 - val_accuracy: 0.3262\n",
      "Epoch 6/50\n",
      "35/35 [==============================] - 13s 370ms/step - loss: 0.1061 - accuracy: 0.9726 - val_loss: 5.2400 - val_accuracy: 0.3374\n",
      "Epoch 7/50\n",
      "35/35 [==============================] - 13s 385ms/step - loss: 0.1047 - accuracy: 0.9697 - val_loss: 5.3731 - val_accuracy: 0.3354\n",
      "Epoch 8/50\n",
      "35/35 [==============================] - 14s 390ms/step - loss: 0.0934 - accuracy: 0.9727 - val_loss: 5.2151 - val_accuracy: 0.3364\n",
      "Epoch 9/50\n",
      "35/35 [==============================] - 14s 395ms/step - loss: 0.0989 - accuracy: 0.9734 - val_loss: 5.2386 - val_accuracy: 0.3344\n",
      "Epoch 10/50\n",
      "35/35 [==============================] - 13s 368ms/step - loss: 0.0981 - accuracy: 0.9719 - val_loss: 5.2714 - val_accuracy: 0.3487\n",
      "Epoch 11/50\n",
      "35/35 [==============================] - 13s 369ms/step - loss: 0.0941 - accuracy: 0.9718 - val_loss: 5.3592 - val_accuracy: 0.3426\n",
      "Epoch 12/50\n",
      "35/35 [==============================] - 13s 363ms/step - loss: 0.0927 - accuracy: 0.9742 - val_loss: 5.1688 - val_accuracy: 0.3385\n",
      "Epoch 13/50\n",
      "35/35 [==============================] - 13s 381ms/step - loss: 0.0946 - accuracy: 0.9749 - val_loss: 5.0419 - val_accuracy: 0.3374\n",
      "Epoch 14/50\n",
      "35/35 [==============================] - 13s 368ms/step - loss: 0.0886 - accuracy: 0.9745 - val_loss: 5.1614 - val_accuracy: 0.3426\n",
      "Epoch 15/50\n",
      "35/35 [==============================] - 13s 365ms/step - loss: 0.0955 - accuracy: 0.9725 - val_loss: 5.2708 - val_accuracy: 0.3313\n",
      "Epoch 16/50\n",
      "35/35 [==============================] - 13s 365ms/step - loss: 0.0920 - accuracy: 0.9735 - val_loss: 5.1496 - val_accuracy: 0.3395\n",
      "Epoch 17/50\n",
      "35/35 [==============================] - 14s 398ms/step - loss: 0.0923 - accuracy: 0.9731 - val_loss: 5.1359 - val_accuracy: 0.3436\n",
      "Epoch 18/50\n",
      "35/35 [==============================] - 14s 389ms/step - loss: 0.0825 - accuracy: 0.9739 - val_loss: 5.2565 - val_accuracy: 0.3364\n"
     ]
    }
   ],
   "source": [
    "model_history = model.fit(X_train, y_train,\n",
    "                  epochs=epochs,\n",
    "                  batch_size=batch_size,\n",
    "                  verbose = 1,\n",
    "                  validation_data = (X_val, y_val),\n",
    "                  callbacks=[EarlyStopping(monitor='val_loss', patience=5)])"
   ]
  },
  {
   "cell_type": "code",
   "execution_count": 57,
   "metadata": {},
   "outputs": [
    {
     "ename": "AttributeError",
     "evalue": "'History' object has no attribute 'summary'",
     "output_type": "error",
     "traceback": [
      "\u001b[0;31m---------------------------------------------------------------------------\u001b[0m",
      "\u001b[0;31mAttributeError\u001b[0m                            Traceback (most recent call last)",
      "Input \u001b[0;32mIn [57]\u001b[0m, in \u001b[0;36m<cell line: 1>\u001b[0;34m()\u001b[0m\n\u001b[0;32m----> 1\u001b[0m \u001b[43mmodel_history\u001b[49m\u001b[38;5;241;43m.\u001b[39;49m\u001b[43msummary\u001b[49m\n",
      "\u001b[0;31mAttributeError\u001b[0m: 'History' object has no attribute 'summary'"
     ]
    }
   ],
   "source": [
    "model_history.summary"
   ]
  },
  {
   "cell_type": "code",
   "execution_count": 54,
   "metadata": {},
   "outputs": [
    {
     "data": {
      "text/plain": [
       "22"
      ]
     },
     "execution_count": 54,
     "metadata": {},
     "output_type": "execute_result"
    }
   ],
   "source": [
    "a = \"CNN_{optimizer}_{22}_{batchsize}\"\n",
    "\n",
    "aa = a.split(\"_{\")\n",
    "\n",
    "\n",
    "int(aa[2][0:2])"
   ]
  },
  {
   "cell_type": "code",
   "execution_count": 48,
   "metadata": {},
   "outputs": [
    {
     "data": {
      "text/plain": [
       "'ptimizer'"
      ]
     },
     "execution_count": 48,
     "metadata": {},
     "output_type": "execute_result"
    }
   ],
   "source": [
    "optimizer = a[a.find(\"{\")+1:a.find(\"}\")]\n",
    "epochs = a[a.find(\"{\")+1:a.find(\"}\")]\n",
    "epochs"
   ]
  },
  {
   "cell_type": "code",
   "execution_count": 37,
   "metadata": {},
   "outputs": [
    {
     "name": "stderr",
     "output_type": "stream",
     "text": [
      "WARNING:absl:Found untraced functions such as _jit_compiled_convolution_op, _jit_compiled_convolution_op, _jit_compiled_convolution_op while saving (showing 3 of 3). These functions will not be directly callable after loading.\n"
     ]
    },
    {
     "name": "stdout",
     "output_type": "stream",
     "text": [
      "INFO:tensorflow:Assets written to: model_hist/assets\n"
     ]
    },
    {
     "name": "stderr",
     "output_type": "stream",
     "text": [
      "INFO:tensorflow:Assets written to: model_hist/assets\n"
     ]
    }
   ],
   "source": [
    "model.save(\"model_hist\")"
   ]
  },
  {
   "cell_type": "code",
   "execution_count": 40,
   "metadata": {},
   "outputs": [
    {
     "name": "stdout",
     "output_type": "stream",
     "text": [
      "Model: \"sequential\"\n",
      "_________________________________________________________________\n",
      " Layer (type)                Output Shape              Param #   \n",
      "=================================================================\n",
      " conv2d (Conv2D)             (None, 48, 48, 32)        896       \n",
      "                                                                 \n",
      " max_pooling2d (MaxPooling2D  (None, 24, 24, 32)       0         \n",
      " )                                                               \n",
      "                                                                 \n",
      " conv2d_1 (Conv2D)           (None, 22, 22, 64)        18496     \n",
      "                                                                 \n",
      " max_pooling2d_1 (MaxPooling  (None, 11, 11, 64)       0         \n",
      " 2D)                                                             \n",
      "                                                                 \n",
      " conv2d_2 (Conv2D)           (None, 9, 9, 128)         73856     \n",
      "                                                                 \n",
      " dropout (Dropout)           (None, 9, 9, 128)         0         \n",
      "                                                                 \n",
      " flatten (Flatten)           (None, 10368)             0         \n",
      "                                                                 \n",
      " dense (Dense)               (None, 298)               3089962   \n",
      "                                                                 \n",
      " dense_1 (Dense)             (None, 149)               44551     \n",
      "                                                                 \n",
      "=================================================================\n",
      "Total params: 3,227,761\n",
      "Trainable params: 3,227,761\n",
      "Non-trainable params: 0\n",
      "_________________________________________________________________\n"
     ]
    }
   ],
   "source": [
    "import tensorflow as tf\n",
    "new_model = tf.keras.models.load_model('model')\n",
    "\n",
    "new_model.summary()\n"
   ]
  },
  {
   "cell_type": "code",
   "execution_count": 34,
   "metadata": {},
   "outputs": [
    {
     "ename": "AttributeError",
     "evalue": "'History' object has no attribute 'summary'",
     "output_type": "error",
     "traceback": [
      "\u001b[0;31m---------------------------------------------------------------------------\u001b[0m",
      "\u001b[0;31mAttributeError\u001b[0m                            Traceback (most recent call last)",
      "Input \u001b[0;32mIn [34]\u001b[0m, in \u001b[0;36m<cell line: 1>\u001b[0;34m()\u001b[0m\n\u001b[0;32m----> 1\u001b[0m \u001b[43mpkmn_model\u001b[49m\u001b[38;5;241;43m.\u001b[39;49m\u001b[43msummary\u001b[49m()\n",
      "\u001b[0;31mAttributeError\u001b[0m: 'History' object has no attribute 'summary'"
     ]
    }
   ],
   "source": [
    "pkmn_model.summary()"
   ]
  },
  {
   "cell_type": "code",
   "execution_count": 61,
   "metadata": {},
   "outputs": [
    {
     "name": "stdout",
     "output_type": "stream",
     "text": [
      "Expected classification accuracy: 0.336\n"
     ]
    },
    {
     "data": {
      "image/png": "[encoded data removed]",
      "text/plain": [
       "<Figure size 576x360 with 1 Axes>"
      ]
     },
     "metadata": {
      "needs_background": "light"
     },
     "output_type": "display_data"
    },
    {
     "data": {
      "image/png": "[encoded data removed]",
      "text/plain": [
       "<Figure size 576x360 with 1 Axes>"
      ]
     },
     "metadata": {
      "needs_background": "light"
     },
     "output_type": "display_data"
    }
   ],
   "source": [
    "print('Expected classification accuracy: %.3f'%model_history.history['val_accuracy'][-1])\n",
    "\n",
    "# Plot the accuracy\n",
    "plt.figure(figsize=(8,5))\n",
    "plt.title('Accuracy')\n",
    "plt.plot(np.sqrt(model_history.history['accuracy']), 'r', label='train')\n",
    "plt.plot(np.sqrt(model_history.history['val_accuracy']), 'b' ,label='val')\n",
    "plt.xlabel('epochs', fontsize=15)\n",
    "plt.ylabel('Accuracy', fontsize=15)\n",
    "plt.legend()\n",
    "plt.show()\n",
    "\n",
    "         \n",
    "# Plot the loss function\n",
    "plt.figure(figsize=(8,5))\n",
    "plt.title('Loss funtion')\n",
    "plt.plot(np.sqrt(model_history.history['loss']), 'r', label='train')\n",
    "plt.plot(np.sqrt(model_history.history['val_loss']), 'b' ,label='val')\n",
    "plt.xlabel('epochs', fontsize=15)\n",
    "plt.ylabel('loss', fontsize=15)\n",
    "plt.legend()\n",
    "plt.show()\n"
   ]
  },
  {
   "cell_type": "code",
   "execution_count": 43,
   "metadata": {},
   "outputs": [
    {
     "data": {
      "text/html": [
       "<div>\n",
       "<style scoped>\n",
       "    .dataframe tbody tr th:only-of-type {\n",
       "        vertical-align: middle;\n",
       "    }\n",
       "\n",
       "    .dataframe tbody tr th {\n",
       "        vertical-align: top;\n",
       "    }\n",
       "\n",
       "    .dataframe thead th {\n",
       "        text-align: right;\n",
       "    }\n",
       "</style>\n",
       "<table border=\"1\" class=\"dataframe\">\n",
       "  <thead>\n",
       "    <tr style=\"text-align: right;\">\n",
       "      <th></th>\n",
       "      <th>loss</th>\n",
       "      <th>accuracy</th>\n",
       "      <th>val_loss</th>\n",
       "      <th>val_accuracy</th>\n",
       "    </tr>\n",
       "  </thead>\n",
       "  <tbody>\n",
       "    <tr>\n",
       "      <th>0</th>\n",
       "      <td>0.101365</td>\n",
       "      <td>0.972856</td>\n",
       "      <td>5.509477</td>\n",
       "      <td>0.337436</td>\n",
       "    </tr>\n",
       "    <tr>\n",
       "      <th>1</th>\n",
       "      <td>0.098628</td>\n",
       "      <td>0.973882</td>\n",
       "      <td>5.440542</td>\n",
       "      <td>0.342564</td>\n",
       "    </tr>\n",
       "    <tr>\n",
       "      <th>2</th>\n",
       "      <td>0.098798</td>\n",
       "      <td>0.974224</td>\n",
       "      <td>5.339485</td>\n",
       "      <td>0.348718</td>\n",
       "    </tr>\n",
       "    <tr>\n",
       "      <th>3</th>\n",
       "      <td>0.092956</td>\n",
       "      <td>0.974567</td>\n",
       "      <td>5.285745</td>\n",
       "      <td>0.342564</td>\n",
       "    </tr>\n",
       "    <tr>\n",
       "      <th>4</th>\n",
       "      <td>0.098059</td>\n",
       "      <td>0.975137</td>\n",
       "      <td>5.509927</td>\n",
       "      <td>0.326154</td>\n",
       "    </tr>\n",
       "  </tbody>\n",
       "</table>\n",
       "</div>"
      ],
      "text/plain": [
       "       loss  accuracy  val_loss  val_accuracy\n",
       "0  0.101365  0.972856  5.509477      0.337436\n",
       "1  0.098628  0.973882  5.440542      0.342564\n",
       "2  0.098798  0.974224  5.339485      0.348718\n",
       "3  0.092956  0.974567  5.285745      0.342564\n",
       "4  0.098059  0.975137  5.509927      0.326154"
      ]
     },
     "execution_count": 43,
     "metadata": {},
     "output_type": "execute_result"
    }
   ],
   "source": [
    "hist_df = pd.DataFrame(model_history.history) \n",
    "\n",
    "hist_df.head()"
   ]
  },
  {
   "cell_type": "code",
   "execution_count": 41,
   "metadata": {},
   "outputs": [
    {
     "name": "stdout",
     "output_type": "stream",
     "text": [
      "1/1 [==============================] - 0s 55ms/step\n",
      "this is a Eevee\n"
     ]
    },
    {
     "data": {
      "image/png": "[encoded data removed]",
      "text/plain": [
       "<Figure size 432x288 with 1 Axes>"
      ]
     },
     "metadata": {
      "needs_background": "light"
     },
     "output_type": "display_data"
    }
   ],
   "source": [
    "# new instance where we do not know the answer\n",
    "n = Image.open(\"/home/christiane/Documents/Programming_Projects/snakemake_workflow/workflow/static/predict/Evoli.jpg\")\n",
    "n = n.resize((50, 50))\n",
    "X_new = np.asarray(n).astype(np.float32)/255.\n",
    "X_new = X_new.reshape(1,50,50,3)\n",
    "#y_new = model.predict_classes(X_new)\n",
    "\n",
    "predict_x=new_model.predict(X_new) \n",
    "y_new=np.argmax(predict_x,axis=1)\n",
    "\n",
    "\n",
    "# show the inputs and predicted outputs\n",
    "print('this is a %s'%(y_train.columns[y_new[0]]))\n",
    "plt.imshow(X_new[0])\n",
    "plt.show()\n"
   ]
  },
  {
   "cell_type": "code",
   "execution_count": 17,
   "metadata": {},
   "outputs": [],
   "source": [
    "import innvestigate\n",
    "import innvestigate.utils\n",
    "\n",
    "\n",
    "# Strip softmax layer\n",
    "model = innvestigate.utils.model_wo_softmax(model)\n",
    "\n",
    "# Create analyzer\n",
    "#analyzer = innvestigate.create_analyzer(\"deep_taylor\", model)\n"
   ]
  },
  {
   "cell_type": "code",
   "execution_count": 20,
   "metadata": {},
   "outputs": [],
   "source": [
    "analyzer = innvestigate.create_analyzer(\"gradient\", model)"
   ]
  },
  {
   "cell_type": "code",
   "execution_count": 21,
   "metadata": {},
   "outputs": [
    {
     "ename": "NameError",
     "evalue": "name 'inputs' is not defined",
     "output_type": "error",
     "traceback": [
      "\u001b[1;31m---------------------------------------------------------------------------\u001b[0m",
      "\u001b[1;31mNameError\u001b[0m                                 Traceback (most recent call last)",
      "\u001b[1;32m<ipython-input-21-6bbdb51ca994>\u001b[0m in \u001b[0;36m<module>\u001b[1;34m\u001b[0m\n\u001b[1;32m----> 1\u001b[1;33m \u001b[0manalysis\u001b[0m \u001b[1;33m=\u001b[0m \u001b[0manalyzer\u001b[0m\u001b[1;33m.\u001b[0m\u001b[0manalyze\u001b[0m\u001b[1;33m(\u001b[0m\u001b[0minputs\u001b[0m\u001b[1;33m)\u001b[0m\u001b[1;33m\u001b[0m\u001b[1;33m\u001b[0m\u001b[0m\n\u001b[0m",
      "\u001b[1;31mNameError\u001b[0m: name 'inputs' is not defined"
     ]
    }
   ],
   "source": [
    "analysis = analyzer.analyze(inputs)"
   ]
  },
  {
   "cell_type": "code",
   "execution_count": 26,
   "metadata": {},
   "outputs": [
    {
     "ename": "NameError",
     "evalue": "name 'keras' is not defined",
     "output_type": "error",
     "traceback": [
      "\u001b[1;31m---------------------------------------------------------------------------\u001b[0m",
      "\u001b[1;31mNameError\u001b[0m                                 Traceback (most recent call last)",
      "\u001b[1;32m<ipython-input-26-f59fee79bf40>\u001b[0m in \u001b[0;36m<module>\u001b[1;34m\u001b[0m\n\u001b[1;32m----> 1\u001b[1;33m \u001b[0mkeras\u001b[0m\u001b[1;33m.\u001b[0m\u001b[0mversion\u001b[0m\u001b[1;33m\u001b[0m\u001b[1;33m\u001b[0m\u001b[0m\n\u001b[0m",
      "\u001b[1;31mNameError\u001b[0m: name 'keras' is not defined"
     ]
    }
   ],
   "source": [
    "keras.version"
   ]
  },
  {
   "cell_type": "code",
   "execution_count": 22,
   "metadata": {},
   "outputs": [
    {
     "ename": "Exception",
     "evalue": "No softmax found.",
     "output_type": "error",
     "traceback": [
      "\u001b[1;31m---------------------------------------------------------------------------\u001b[0m",
      "\u001b[1;31mException\u001b[0m                                 Traceback (most recent call last)",
      "\u001b[1;32m<ipython-input-22-525f37b37cfd>\u001b[0m in \u001b[0;36m<module>\u001b[1;34m\u001b[0m\n\u001b[0;32m      4\u001b[0m \u001b[1;33m\u001b[0m\u001b[0m\n\u001b[0;32m      5\u001b[0m \u001b[1;31m# Strip softmax layer\u001b[0m\u001b[1;33m\u001b[0m\u001b[1;33m\u001b[0m\u001b[1;33m\u001b[0m\u001b[0m\n\u001b[1;32m----> 6\u001b[1;33m \u001b[0mmodel\u001b[0m \u001b[1;33m=\u001b[0m \u001b[0minnvestigate\u001b[0m\u001b[1;33m.\u001b[0m\u001b[0mutils\u001b[0m\u001b[1;33m.\u001b[0m\u001b[0mmodel_wo_softmax\u001b[0m\u001b[1;33m(\u001b[0m\u001b[0mmodel\u001b[0m\u001b[1;33m)\u001b[0m\u001b[1;33m\u001b[0m\u001b[1;33m\u001b[0m\u001b[0m\n\u001b[0m\u001b[0;32m      7\u001b[0m \u001b[1;33m\u001b[0m\u001b[0m\n\u001b[0;32m      8\u001b[0m \u001b[1;31m# Create analyzer\u001b[0m\u001b[1;33m\u001b[0m\u001b[1;33m\u001b[0m\u001b[1;33m\u001b[0m\u001b[0m\n",
      "\u001b[1;32m~\\anaconda3\\envs\\TF2\\lib\\site-packages\\innvestigate\\utils\\__init__.py\u001b[0m in \u001b[0;36mmodel_wo_softmax\u001b[1;34m(*args, **kwargs)\u001b[0m\n\u001b[0;32m     35\u001b[0m     \u001b[1;32mfrom\u001b[0m \u001b[1;33m.\u001b[0m\u001b[0mkeras\u001b[0m\u001b[1;33m.\u001b[0m\u001b[0mgraph\u001b[0m \u001b[1;32mimport\u001b[0m \u001b[0mmodel_wo_softmax\u001b[0m\u001b[1;33m\u001b[0m\u001b[1;33m\u001b[0m\u001b[0m\n\u001b[0;32m     36\u001b[0m \u001b[1;33m\u001b[0m\u001b[0m\n\u001b[1;32m---> 37\u001b[1;33m     \u001b[1;32mreturn\u001b[0m \u001b[0mmodel_wo_softmax\u001b[0m\u001b[1;33m(\u001b[0m\u001b[1;33m*\u001b[0m\u001b[0margs\u001b[0m\u001b[1;33m,\u001b[0m \u001b[1;33m**\u001b[0m\u001b[0mkwargs\u001b[0m\u001b[1;33m)\u001b[0m\u001b[1;33m\u001b[0m\u001b[1;33m\u001b[0m\u001b[0m\n\u001b[0m\u001b[0;32m     38\u001b[0m \u001b[1;33m\u001b[0m\u001b[0m\n\u001b[0;32m     39\u001b[0m \u001b[1;33m\u001b[0m\u001b[0m\n",
      "\u001b[1;32m~\\anaconda3\\envs\\TF2\\lib\\site-packages\\innvestigate\\utils\\keras\\graph.py\u001b[0m in \u001b[0;36mmodel_wo_softmax\u001b[1;34m(model)\u001b[0m\n\u001b[0;32m    381\u001b[0m     \u001b[1;34m\"\"\"Creates a new model w/o the final softmax activation.\"\"\"\u001b[0m\u001b[1;33m\u001b[0m\u001b[1;33m\u001b[0m\u001b[0m\n\u001b[0;32m    382\u001b[0m     return keras.models.Model(inputs=model.inputs,\n\u001b[1;32m--> 383\u001b[1;33m                               \u001b[0moutputs\u001b[0m\u001b[1;33m=\u001b[0m\u001b[0mpre_softmax_tensors\u001b[0m\u001b[1;33m(\u001b[0m\u001b[0mmodel\u001b[0m\u001b[1;33m.\u001b[0m\u001b[0moutputs\u001b[0m\u001b[1;33m)\u001b[0m\u001b[1;33m,\u001b[0m\u001b[1;33m\u001b[0m\u001b[1;33m\u001b[0m\u001b[0m\n\u001b[0m\u001b[0;32m    384\u001b[0m                               name=model.name)\n\u001b[0;32m    385\u001b[0m \u001b[1;33m\u001b[0m\u001b[0m\n",
      "\u001b[1;32m~\\anaconda3\\envs\\TF2\\lib\\site-packages\\innvestigate\\utils\\keras\\graph.py\u001b[0m in \u001b[0;36mpre_softmax_tensors\u001b[1;34m(Xs, should_find_softmax)\u001b[0m\n\u001b[0;32m    373\u001b[0m \u001b[1;33m\u001b[0m\u001b[0m\n\u001b[0;32m    374\u001b[0m     \u001b[1;32mif\u001b[0m \u001b[0mshould_find_softmax\u001b[0m \u001b[1;32mand\u001b[0m \u001b[1;32mnot\u001b[0m \u001b[0msoftmax_found\u001b[0m\u001b[1;33m:\u001b[0m\u001b[1;33m\u001b[0m\u001b[1;33m\u001b[0m\u001b[0m\n\u001b[1;32m--> 375\u001b[1;33m         \u001b[1;32mraise\u001b[0m \u001b[0mException\u001b[0m\u001b[1;33m(\u001b[0m\u001b[1;34m\"No softmax found.\"\u001b[0m\u001b[1;33m)\u001b[0m\u001b[1;33m\u001b[0m\u001b[1;33m\u001b[0m\u001b[0m\n\u001b[0m\u001b[0;32m    376\u001b[0m \u001b[1;33m\u001b[0m\u001b[0m\n\u001b[0;32m    377\u001b[0m     \u001b[1;32mreturn\u001b[0m \u001b[0mret\u001b[0m\u001b[1;33m\u001b[0m\u001b[1;33m\u001b[0m\u001b[0m\n",
      "\u001b[1;31mException\u001b[0m: No softmax found."
     ]
    }
   ],
   "source": [
    "import innvestigate\n",
    "import innvestigate.utils\n",
    "\n",
    "\n",
    "# Strip softmax layer\n",
    "model = innvestigate.utils.model_wo_softmax(model)\n",
    "\n",
    "# Create analyzer\n",
    "analyzer = innvestigate.create_analyzer(\"deep_taylor\", model)\n"
   ]
  },
  {
   "cell_type": "code",
   "execution_count": null,
   "metadata": {},
   "outputs": [],
   "source": []
  },
  {
   "cell_type": "code",
   "execution_count": 12,
   "metadata": {},
   "outputs": [],
   "source": [
    "model.save('pokedex_model')"
   ]
  },
  {
   "cell_type": "code",
   "execution_count": 17,
   "metadata": {},
   "outputs": [
    {
     "ename": "Exception",
     "evalue": "No softmax found.",
     "output_type": "error",
     "traceback": [
      "\u001b[1;31m---------------------------------------------------------------------------\u001b[0m",
      "\u001b[1;31mException\u001b[0m                                 Traceback (most recent call last)",
      "\u001b[1;32m<ipython-input-17-e7709c1a0097>\u001b[0m in \u001b[0;36m<module>\u001b[1;34m\u001b[0m\n\u001b[0;32m      3\u001b[0m \u001b[1;33m\u001b[0m\u001b[0m\n\u001b[0;32m      4\u001b[0m \u001b[1;31m# Strip softmax layer\u001b[0m\u001b[1;33m\u001b[0m\u001b[1;33m\u001b[0m\u001b[1;33m\u001b[0m\u001b[0m\n\u001b[1;32m----> 5\u001b[1;33m \u001b[0mmodel\u001b[0m \u001b[1;33m=\u001b[0m \u001b[0minnvestigate\u001b[0m\u001b[1;33m.\u001b[0m\u001b[0mutils\u001b[0m\u001b[1;33m.\u001b[0m\u001b[0mmodel_wo_softmax\u001b[0m\u001b[1;33m(\u001b[0m\u001b[0mmodel\u001b[0m\u001b[1;33m)\u001b[0m\u001b[1;33m\u001b[0m\u001b[1;33m\u001b[0m\u001b[0m\n\u001b[0m\u001b[0;32m      6\u001b[0m \u001b[1;33m\u001b[0m\u001b[0m\n\u001b[0;32m      7\u001b[0m \u001b[1;31m# Create analyzer\u001b[0m\u001b[1;33m\u001b[0m\u001b[1;33m\u001b[0m\u001b[1;33m\u001b[0m\u001b[0m\n",
      "\u001b[1;32m~\\anaconda3\\envs\\TF2\\lib\\site-packages\\innvestigate\\utils\\__init__.py\u001b[0m in \u001b[0;36mmodel_wo_softmax\u001b[1;34m(*args, **kwargs)\u001b[0m\n\u001b[0;32m     35\u001b[0m     \u001b[1;32mfrom\u001b[0m \u001b[1;33m.\u001b[0m\u001b[0mkeras\u001b[0m\u001b[1;33m.\u001b[0m\u001b[0mgraph\u001b[0m \u001b[1;32mimport\u001b[0m \u001b[0mmodel_wo_softmax\u001b[0m\u001b[1;33m\u001b[0m\u001b[1;33m\u001b[0m\u001b[0m\n\u001b[0;32m     36\u001b[0m \u001b[1;33m\u001b[0m\u001b[0m\n\u001b[1;32m---> 37\u001b[1;33m     \u001b[1;32mreturn\u001b[0m \u001b[0mmodel_wo_softmax\u001b[0m\u001b[1;33m(\u001b[0m\u001b[1;33m*\u001b[0m\u001b[0margs\u001b[0m\u001b[1;33m,\u001b[0m \u001b[1;33m**\u001b[0m\u001b[0mkwargs\u001b[0m\u001b[1;33m)\u001b[0m\u001b[1;33m\u001b[0m\u001b[1;33m\u001b[0m\u001b[0m\n\u001b[0m\u001b[0;32m     38\u001b[0m \u001b[1;33m\u001b[0m\u001b[0m\n\u001b[0;32m     39\u001b[0m \u001b[1;33m\u001b[0m\u001b[0m\n",
      "\u001b[1;32m~\\anaconda3\\envs\\TF2\\lib\\site-packages\\innvestigate\\utils\\keras\\graph.py\u001b[0m in \u001b[0;36mmodel_wo_softmax\u001b[1;34m(model)\u001b[0m\n\u001b[0;32m    381\u001b[0m     \u001b[1;34m\"\"\"Creates a new model w/o the final softmax activation.\"\"\"\u001b[0m\u001b[1;33m\u001b[0m\u001b[1;33m\u001b[0m\u001b[0m\n\u001b[0;32m    382\u001b[0m     return keras.models.Model(inputs=model.inputs,\n\u001b[1;32m--> 383\u001b[1;33m                               \u001b[0moutputs\u001b[0m\u001b[1;33m=\u001b[0m\u001b[0mpre_softmax_tensors\u001b[0m\u001b[1;33m(\u001b[0m\u001b[0mmodel\u001b[0m\u001b[1;33m.\u001b[0m\u001b[0moutputs\u001b[0m\u001b[1;33m)\u001b[0m\u001b[1;33m,\u001b[0m\u001b[1;33m\u001b[0m\u001b[1;33m\u001b[0m\u001b[0m\n\u001b[0m\u001b[0;32m    384\u001b[0m                               name=model.name)\n\u001b[0;32m    385\u001b[0m \u001b[1;33m\u001b[0m\u001b[0m\n",
      "\u001b[1;32m~\\anaconda3\\envs\\TF2\\lib\\site-packages\\innvestigate\\utils\\keras\\graph.py\u001b[0m in \u001b[0;36mpre_softmax_tensors\u001b[1;34m(Xs, should_find_softmax)\u001b[0m\n\u001b[0;32m    373\u001b[0m \u001b[1;33m\u001b[0m\u001b[0m\n\u001b[0;32m    374\u001b[0m     \u001b[1;32mif\u001b[0m \u001b[0mshould_find_softmax\u001b[0m \u001b[1;32mand\u001b[0m \u001b[1;32mnot\u001b[0m \u001b[0msoftmax_found\u001b[0m\u001b[1;33m:\u001b[0m\u001b[1;33m\u001b[0m\u001b[1;33m\u001b[0m\u001b[0m\n\u001b[1;32m--> 375\u001b[1;33m         \u001b[1;32mraise\u001b[0m \u001b[0mException\u001b[0m\u001b[1;33m(\u001b[0m\u001b[1;34m\"No softmax found.\"\u001b[0m\u001b[1;33m)\u001b[0m\u001b[1;33m\u001b[0m\u001b[1;33m\u001b[0m\u001b[0m\n\u001b[0m\u001b[0;32m    376\u001b[0m \u001b[1;33m\u001b[0m\u001b[0m\n\u001b[0;32m    377\u001b[0m     \u001b[1;32mreturn\u001b[0m \u001b[0mret\u001b[0m\u001b[1;33m\u001b[0m\u001b[1;33m\u001b[0m\u001b[0m\n",
      "\u001b[1;31mException\u001b[0m: No softmax found."
     ]
    }
   ],
   "source": [
    "import innvestigate\n",
    "import innvestigate.utils as iutils\n",
    "\n",
    "# Strip softmax layer\n",
    "model = innvestigate.utils.model_wo_softmax(model)\n",
    "\n",
    "# Create analyzer\n",
    "analyzer = innvestigate.create_analyzer(\"deep_taylor\", model)"
   ]
  },
  {
   "cell_type": "code",
   "execution_count": 143,
   "metadata": {},
   "outputs": [
    {
     "data": {
      "text/plain": [
       "<tensorflow.python.keras.engine.sequential.Sequential at 0x1bfd1c16e80>"
      ]
     },
     "execution_count": 143,
     "metadata": {},
     "output_type": "execute_result"
    }
   ],
   "source": [
    "model"
   ]
  },
  {
   "cell_type": "code",
   "execution_count": null,
   "metadata": {},
   "outputs": [],
   "source": [
    "import innvestigate\n",
    "import innvestigate.utils as iutils\n",
    "#https://github.com/albermax/innvestigate/blob/master/examples/notebooks/introduction.ipynb\n",
    "# Get model\n",
    "model, preprocess = vgg16.VGG16(), vgg16.preprocess_input\n",
    "# Strip softmax layer\n",
    "model = innvestigate.utils.model_wo_softmax(model)\n",
    "\n",
    "# Create analyzer\n",
    "analyzer = innvestigate.create_analyzer(\"deep_taylor\", model)\n",
    "\n",
    "# Add batch axis and preprocess\n",
    "x = preprocess(image[None])\n",
    "# Apply analyzer w.r.t. maximum activated output-neuron\n",
    "a = analyzer.analyze(x)\n",
    "\n",
    "# Aggregate along color channels and normalize to [-1, 1]\n",
    "a = a.sum(axis=np.argmax(np.asarray(a.shape) == 3))\n",
    "a /= np.max(np.abs(a))\n",
    "# Plot\n",
    "plt.imshow(a[0], cmap=\"seismic\", clim=(-1, 1))"
   ]
  }
 ],
 "metadata": {
  "kernelspec": {
   "display_name": "Python 3 (ipykernel)",
   "language": "python",
   "name": "python3"
  },
  "language_info": {
   "codemirror_mode": {
    "name": "ipython",
    "version": 3
   },
   "file_extension": ".py",
   "mimetype": "text/x-python",
   "name": "python",
   "nbconvert_exporter": "python",
   "pygments_lexer": "ipython3",
   "version": "3.9.12"
  }
 },
 "nbformat": 4,
 "nbformat_minor": 2
}
